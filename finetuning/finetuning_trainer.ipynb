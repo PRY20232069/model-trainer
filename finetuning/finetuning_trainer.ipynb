{
 "cells": [
  {
   "cell_type": "markdown",
   "metadata": {},
   "source": [
    "# Fine Tuning Trainer"
   ]
  },
  {
   "cell_type": "markdown",
   "metadata": {},
   "source": [
    "##### 1. Load env variables"
   ]
  },
  {
   "cell_type": "code",
   "execution_count": 12,
   "metadata": {},
   "outputs": [],
   "source": [
    "# pip install python-dotenv\n",
    "from dotenv import load_dotenv\n",
    "import os\n",
    "\n",
    "# Carga las variables de entorno del archivo .env\n",
    "load_dotenv()\n",
    "\n",
    "# Accede a las variables de entorno\n",
    "OPENAI_API_KEY = os.getenv('OPENAI_API_KEY')\n",
    "FILE_ID = os.getenv('FILE_ID')\n",
    "JOB_ID = os.getenv('JOB_ID')\n",
    "MODEL_ID = os.getenv('MODEL_ID')"
   ]
  },
  {
   "cell_type": "markdown",
   "metadata": {},
   "source": [
    "##### 2. Upload training file"
   ]
  },
  {
   "cell_type": "code",
   "execution_count": null,
   "metadata": {},
   "outputs": [],
   "source": [
    "from openai import OpenAI\n",
    "client = OpenAI()\n",
    "\n",
    "response = client.files.create(\n",
    "  file=open(\"data/abusive_clauses_and_explanations.jsonl\", \"rb\"),\n",
    "  purpose=\"fine-tune\"\n",
    ")\n",
    "\n",
    "print(response)"
   ]
  },
  {
   "cell_type": "markdown",
   "metadata": {},
   "source": [
    "##### 3. Start training"
   ]
  },
  {
   "cell_type": "code",
   "execution_count": null,
   "metadata": {},
   "outputs": [],
   "source": [
    "from openai import OpenAI\n",
    "client = OpenAI()\n",
    "\n",
    "response = client.fine_tuning.jobs.create(\n",
    "  training_file=FILE_ID, \n",
    "  model=\"gpt-3.5-turbo\"\n",
    ")\n",
    "\n",
    "print(response)"
   ]
  },
  {
   "cell_type": "markdown",
   "metadata": {},
   "source": [
    "##### 4. Test trainned model"
   ]
  },
  {
   "cell_type": "code",
   "execution_count": null,
   "metadata": {},
   "outputs": [],
   "source": [
    "from openai import OpenAI\n",
    "client = OpenAI()\n",
    "\n",
    "response = client.chat.completions.create(\n",
    "  model=MODEL_ID,\n",
    "  messages=[\n",
    "    {\"role\": \"system\", \"content\": \"Eres un experto legal que explica por qué una cláusula puede ser o no potencialmente perjudicial para el consumidor\"},\n",
    "    {\"role\": \"user\", \"content\": \"Si en las fechas de pago de las Cuotas, la Cuenta de Pagos no tiene dinero (fondos) suficiente, el Banco podrá cobrar las Cuotas, así como, cualquier otro concepto establecido en la Hoja Resumen y/o en el Cronograma, de cualquier otra cuenta que Usted tenga en el Banco, sea en moneda nacional o en moneda extranjera.###\"}\n",
    "  ]\n",
    ")\n",
    "print(response.choices[0].message)"
   ]
  },
  {
   "cell_type": "markdown",
   "metadata": {},
   "source": [
    "##### Get testing answer"
   ]
  },
  {
   "cell_type": "code",
   "execution_count": 22,
   "metadata": {},
   "outputs": [
    {
     "data": {
      "text/plain": [
       "' Impongan obstáculos onerosos o desproporcionados para el ejercicio de los derechos reconocidos al consumidor en los contratos.==='"
      ]
     },
     "execution_count": 22,
     "metadata": {},
     "output_type": "execute_result"
    }
   ],
   "source": [
    "response.choices[0].message.content"
   ]
  }
 ],
 "metadata": {
  "kernelspec": {
   "display_name": "Python 3",
   "language": "python",
   "name": "python3"
  },
  "language_info": {
   "codemirror_mode": {
    "name": "ipython",
    "version": 3
   },
   "file_extension": ".py",
   "mimetype": "text/x-python",
   "name": "python",
   "nbconvert_exporter": "python",
   "pygments_lexer": "ipython3",
   "version": "3.11.5"
  }
 },
 "nbformat": 4,
 "nbformat_minor": 2
}
